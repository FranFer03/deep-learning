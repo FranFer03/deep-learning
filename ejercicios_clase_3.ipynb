{
  "cells": [
    {
      "cell_type": "markdown",
      "metadata": {
        "id": "HIfRkWPFFAoh"
      },
      "source": [
        "# Ejercicios Clase 3"
      ]
    },
    {
      "cell_type": "markdown",
      "metadata": {
        "id": "XrjQc1jFzKax"
      },
      "source": [
        "En este notebook vamos a usar MLPs para generar un modelo clasificador sobre FashionMNIST así que muchas de las funciones que usamos en los ejercicios de la clase 2 te serán muy útiles."
      ]
    },
    {
      "cell_type": "markdown",
      "metadata": {
        "id": "wXptOn-CVs2n"
      },
      "source": [
        "## Ejercicio 1:"
      ]
    },
    {
      "cell_type": "markdown",
      "metadata": {
        "id": "JVlWPVyn5PW1"
      },
      "source": [
        "Generar un modelo perceptron multicapa con 2 capas ocultas de 512 y 128 neuronas respectivamente para clasificación sobre el dataset FashionMNIST"
      ]
    },
    {
      "cell_type": "code",
      "execution_count": 3,
      "metadata": {},
      "outputs": [],
      "source": [
        "import torch\n",
        "from torch import nn\n",
        "import torchvision\n",
        "from IPython import display\n",
        "from torchvision import transforms\n",
        "from torch.utils import data\n",
        "\n",
        "def load_data_fashion_mnist(batch_size, resize=None):\n",
        "    trans = [transforms.ToTensor()]\n",
        "    if resize:\n",
        "        trans.insert(0, transforms.Resize(resize))\n",
        "    trans = transforms.Compose(trans)\n",
        "    mnist_train = torchvision.datasets.FashionMNIST(\n",
        "        root=\"../data\", train=True, transform=trans, download=True)\n",
        "    mnist_test = torchvision.datasets.FashionMNIST(\n",
        "        root=\"../data\", train=False, transform=trans, download=True)\n",
        "    return (data.DataLoader(mnist_train, batch_size, shuffle=True,\n",
        "                            num_workers=1),\n",
        "            data.DataLoader(mnist_test, batch_size, shuffle=False,\n",
        "                            num_workers=1))\n",
        "\n",
        "def init_weights(m):\n",
        "  if type(m) == nn.Linear:\n",
        "      nn.init.normal_(m.weight, std=0.01)\n",
        "\n",
        "def accuracy(y_hat, y):\n",
        "    \"\"\"Compute the number of correct predictions.\"\"\"\n",
        "    if len(y_hat.shape) > 1 and y_hat.shape[1] > 1:\n",
        "        y_hat = y_hat.argmax(axis=1)\n",
        "    cmp = y_hat.type(y.dtype) == y\n",
        "    return float(cmp.type(y.dtype).sum())\n",
        "\n",
        "def train(net, train_iter, test_iter, loss, num_epochs, trainer):\n",
        "  for epoch in range(num_epochs):\n",
        "    L = 0.0\n",
        "    N = 0\n",
        "    Acc = 0.0\n",
        "    TestAcc = 0.0\n",
        "    TestN = 0\n",
        "    for X, y in train_iter:\n",
        "        l = loss(net(X) ,y)\n",
        "        trainer.zero_grad()\n",
        "        l.mean().backward()\n",
        "        trainer.step()\n",
        "        L += l.sum()\n",
        "        N += l.numel()\n",
        "        Acc += accuracy(net(X), y)\n",
        "    for X, y in test_iter:\n",
        "        TestN += y.numel()\n",
        "        TestAcc += accuracy(net(X), y)\n",
        "    print(f'epoch {epoch + 1}, loss {(L/N):f}\\\n",
        "          , train accuracy  {(Acc/N):f}, test accuracy {(TestAcc/TestN):f}')\n"
      ]
    },
    {
      "cell_type": "code",
      "execution_count": 5,
      "metadata": {
        "id": "5s8UWRi1zqXD"
      },
      "outputs": [],
      "source": [
        "net1 = nn.Sequential(\n",
        "    nn.Flatten(),\n",
        "    nn.Linear(28*28, 512),\n",
        "    nn.ReLU(),\n",
        "    nn.Linear(512,128),\n",
        "    nn.ReLU(),\n",
        "    nn.Linear(128,10)\n",
        ")"
      ]
    },
    {
      "cell_type": "markdown",
      "metadata": {
        "id": "1ntELWGPIpoB"
      },
      "source": [
        "## Ejercicio 2\n",
        "\n",
        "Entrene el modelo por 10 épocas con un tamaño de lote de 256 y un learning rate de 0.3. (Le recomendamos reutilizar las funciones modularizadas de los ejercicios de la clase 2)"
      ]
    },
    {
      "cell_type": "code",
      "execution_count": 6,
      "metadata": {
        "id": "KIIQUloXX-PA"
      },
      "outputs": [
        {
          "name": "stdout",
          "output_type": "stream",
          "text": [
            "epoch 1, loss 1.208882          , train accuracy  0.550983, test accuracy 0.744400\n",
            "epoch 2, loss 0.572254          , train accuracy  0.804733, test accuracy 0.815300\n",
            "epoch 3, loss 0.467516          , train accuracy  0.847033, test accuracy 0.804800\n",
            "epoch 4, loss 0.421262          , train accuracy  0.865600, test accuracy 0.762800\n",
            "epoch 5, loss 0.390806          , train accuracy  0.877067, test accuracy 0.833500\n",
            "epoch 6, loss 0.367432          , train accuracy  0.885933, test accuracy 0.815900\n",
            "epoch 7, loss 0.351476          , train accuracy  0.891417, test accuracy 0.858900\n",
            "epoch 8, loss 0.333906          , train accuracy  0.899083, test accuracy 0.834500\n",
            "epoch 9, loss 0.323901          , train accuracy  0.903867, test accuracy 0.847200\n",
            "epoch 10, loss 0.311968          , train accuracy  0.908700, test accuracy 0.852200\n"
          ]
        }
      ],
      "source": [
        "#ingresa tu código aquí\n",
        "batch_size = 256\n",
        "epochs = 10\n",
        "lr = 0.3\n",
        "\n",
        "net1.apply(init_weights)\n",
        "\n",
        "train_iter, test_iter = load_data_fashion_mnist(batch_size)\n",
        "\n",
        "loss = nn.CrossEntropyLoss(reduction='none')\n",
        "trainer = torch.optim.SGD(net1.parameters(), lr=lr)\n",
        "\n",
        "train(net1, train_iter, test_iter, loss, epochs, trainer)"
      ]
    },
    {
      "cell_type": "markdown",
      "metadata": {
        "id": "iH0Tag93XCct"
      },
      "source": [
        "## Ejercicio 3 :"
      ]
    },
    {
      "cell_type": "markdown",
      "metadata": {
        "id": "oJOmdokbXCcu"
      },
      "source": [
        "A partir del modelo anterior, analice que ocurre si en lugar de entrenar 10 épocas, entrena 20"
      ]
    },
    {
      "cell_type": "code",
      "execution_count": 7,
      "metadata": {
        "id": "1eOc5tisYNHZ"
      },
      "outputs": [
        {
          "name": "stdout",
          "output_type": "stream",
          "text": [
            "epoch 1, loss 1.091739          , train accuracy  0.604700, test accuracy 0.739300\n",
            "epoch 2, loss 0.551904          , train accuracy  0.815133, test accuracy 0.822500\n",
            "epoch 3, loss 0.455712          , train accuracy  0.852700, test accuracy 0.794300\n",
            "epoch 4, loss 0.411932          , train accuracy  0.868250, test accuracy 0.840000\n",
            "epoch 5, loss 0.384573          , train accuracy  0.879683, test accuracy 0.843600\n",
            "epoch 6, loss 0.359939          , train accuracy  0.888533, test accuracy 0.809600\n",
            "epoch 7, loss 0.342818          , train accuracy  0.895900, test accuracy 0.823900\n",
            "epoch 8, loss 0.327652          , train accuracy  0.901483, test accuracy 0.866600\n",
            "epoch 9, loss 0.318711          , train accuracy  0.905667, test accuracy 0.869800\n",
            "epoch 10, loss 0.307725          , train accuracy  0.910417, test accuracy 0.848700\n",
            "epoch 11, loss 0.299697          , train accuracy  0.914433, test accuracy 0.871600\n",
            "epoch 12, loss 0.287715          , train accuracy  0.917800, test accuracy 0.854000\n",
            "epoch 13, loss 0.279096          , train accuracy  0.922017, test accuracy 0.869800\n",
            "epoch 14, loss 0.270494          , train accuracy  0.923333, test accuracy 0.874700\n",
            "epoch 15, loss 0.263822          , train accuracy  0.927467, test accuracy 0.872400\n",
            "epoch 16, loss 0.257824          , train accuracy  0.929083, test accuracy 0.872100\n",
            "epoch 17, loss 0.250782          , train accuracy  0.932683, test accuracy 0.878900\n",
            "epoch 18, loss 0.246317          , train accuracy  0.935050, test accuracy 0.858100\n",
            "epoch 19, loss 0.237474          , train accuracy  0.937250, test accuracy 0.868900\n",
            "epoch 20, loss 0.237944          , train accuracy  0.938000, test accuracy 0.873200\n"
          ]
        }
      ],
      "source": [
        "#ingresa tu código aquí\n",
        "\n",
        "batch_size = 256\n",
        "epochs = 20\n",
        "lr = 0.3\n",
        "\n",
        "net1.apply(init_weights)\n",
        "\n",
        "train_iter, test_iter = load_data_fashion_mnist(batch_size)\n",
        "\n",
        "loss = nn.CrossEntropyLoss(reduction='none')\n",
        "trainer = torch.optim.SGD(net1.parameters(), lr=lr)\n",
        "\n",
        "train(net1, train_iter, test_iter, loss, epochs, trainer)"
      ]
    },
    {
      "cell_type": "markdown",
      "metadata": {
        "id": "ptvfEmUIcf0-"
      },
      "source": [
        "## Ejercicio 4"
      ]
    },
    {
      "cell_type": "markdown",
      "metadata": {
        "id": "eL8cyma5ciJa"
      },
      "source": [
        "Aumente el learning rate a 1 y entrene nuevamente. ¿Cómo puede explicar lo que pasó?"
      ]
    },
    {
      "cell_type": "code",
      "execution_count": 8,
      "metadata": {
        "id": "gMEUXxHac3Ny"
      },
      "outputs": [
        {
          "name": "stdout",
          "output_type": "stream",
          "text": [
            "epoch 1, loss 2.262566          , train accuracy  0.261433, test accuracy 0.289100\n",
            "epoch 2, loss 1.523291          , train accuracy  0.430683, test accuracy 0.457400\n",
            "epoch 3, loss 1.449324          , train accuracy  0.442750, test accuracy 0.436500\n",
            "epoch 4, loss 1.638841          , train accuracy  0.352850, test accuracy 0.208900\n",
            "epoch 5, loss 1.582961          , train accuracy  0.356183, test accuracy 0.407300\n",
            "epoch 6, loss 1.536107          , train accuracy  0.378100, test accuracy 0.349400\n",
            "epoch 7, loss 1.423726          , train accuracy  0.420400, test accuracy 0.431700\n",
            "epoch 8, loss 1.286654          , train accuracy  0.477000, test accuracy 0.462500\n",
            "epoch 9, loss 1.282499          , train accuracy  0.485750, test accuracy 0.536600\n",
            "epoch 10, loss 1.090440          , train accuracy  0.557100, test accuracy 0.528700\n",
            "epoch 11, loss 1.003532          , train accuracy  0.601600, test accuracy 0.469300\n",
            "epoch 12, loss 1.524026          , train accuracy  0.390733, test accuracy 0.260900\n",
            "epoch 13, loss 1.755996          , train accuracy  0.354133, test accuracy 0.472600\n",
            "epoch 14, loss 1.623509          , train accuracy  0.318633, test accuracy 0.222700\n",
            "epoch 15, loss 1.594399          , train accuracy  0.356933, test accuracy 0.282500\n",
            "epoch 16, loss 1.572608          , train accuracy  0.374317, test accuracy 0.311200\n",
            "epoch 17, loss 1.648851          , train accuracy  0.310467, test accuracy 0.285000\n",
            "epoch 18, loss 1.673265          , train accuracy  0.287767, test accuracy 0.288300\n",
            "epoch 19, loss 1.723821          , train accuracy  0.234767, test accuracy 0.201400\n",
            "epoch 20, loss 1.680090          , train accuracy  0.241250, test accuracy 0.200900\n"
          ]
        }
      ],
      "source": [
        "#ingresa tu código aquí\n",
        "\n",
        "batch_size = 256\n",
        "epochs = 20\n",
        "lr = 1\n",
        "\n",
        "net1.apply(init_weights)\n",
        "\n",
        "train_iter, test_iter = load_data_fashion_mnist(batch_size)\n",
        "\n",
        "loss = nn.CrossEntropyLoss(reduction='none')\n",
        "trainer = torch.optim.SGD(net1.parameters(), lr=lr)\n",
        "\n",
        "train(net1, train_iter, test_iter, loss, epochs, trainer)"
      ]
    },
    {
      "cell_type": "markdown",
      "metadata": {
        "id": "UpPB6eo7YcUy"
      },
      "source": [
        "## Ejercicio 5:"
      ]
    },
    {
      "cell_type": "markdown",
      "metadata": {
        "id": "Tf0axPgXYcU0"
      },
      "source": [
        "Analize el efecto de cambiar las funciones de activación en el accurracy"
      ]
    },
    {
      "cell_type": "code",
      "execution_count": 9,
      "metadata": {
        "id": "1aVS2IaOYcU2"
      },
      "outputs": [
        {
          "name": "stdout",
          "output_type": "stream",
          "text": [
            "epoch 1, loss 2.310005          , train accuracy  0.130950, test accuracy 0.100000\n",
            "epoch 2, loss 1.886963          , train accuracy  0.300233, test accuracy 0.415900\n",
            "epoch 3, loss 1.085987          , train accuracy  0.611733, test accuracy 0.635000\n",
            "epoch 4, loss 0.884283          , train accuracy  0.668750, test accuracy 0.628400\n",
            "epoch 5, loss 0.804815          , train accuracy  0.705217, test accuracy 0.715300\n",
            "epoch 6, loss 0.727692          , train accuracy  0.739750, test accuracy 0.721100\n",
            "epoch 7, loss 0.665764          , train accuracy  0.765750, test accuracy 0.755200\n",
            "epoch 8, loss 0.620813          , train accuracy  0.782300, test accuracy 0.763500\n",
            "epoch 9, loss 0.585568          , train accuracy  0.795633, test accuracy 0.774600\n",
            "epoch 10, loss 0.559369          , train accuracy  0.806733, test accuracy 0.796000\n"
          ]
        }
      ],
      "source": [
        "#ingresa tu código aquí\n",
        "\n",
        "INPUT = 28 * 28\n",
        "OUTPUT = 10\n",
        "HIDDEN1 = 512\n",
        "HIDDEN2 = 128\n",
        "\n",
        "\n",
        "net2 = nn.Sequential(nn.Flatten(),\n",
        "                    nn.Linear(INPUT, HIDDEN1),\n",
        "                    nn.Sigmoid(),\n",
        "                    nn.Linear(HIDDEN1, HIDDEN2),\n",
        "                    nn.Sigmoid(),\n",
        "                    nn.Linear(HIDDEN2, OUTPUT))\n",
        "batch_size, lr, num_epochs = 256, 0.3, 10\n",
        "\n",
        "net2.apply(init_weights);\n",
        "\n",
        "train_iter, test_iter = load_data_fashion_mnist(batch_size)\n",
        "loss = nn.CrossEntropyLoss(reduction='none')\n",
        "trainer2 = torch.optim.SGD(net2.parameters(), lr=lr)\n",
        "train(net2, train_iter, test_iter, loss, num_epochs, trainer2)"
      ]
    },
    {
      "cell_type": "markdown",
      "metadata": {
        "id": "rMzoVF_5bARh"
      },
      "source": [
        "## Ejercicio 6:"
      ]
    },
    {
      "cell_type": "markdown",
      "metadata": {
        "id": "qj9XuB7LbARi"
      },
      "source": [
        "Ahora genere un tercer modelo en donde ambas capas tengan 1024 neuronas. Analice si produjo algún cambio en los rendimientos."
      ]
    },
    {
      "cell_type": "code",
      "execution_count": 10,
      "metadata": {
        "id": "9sKhx7oDbARk"
      },
      "outputs": [
        {
          "name": "stdout",
          "output_type": "stream",
          "text": [
            "epoch 1, loss 0.920348          , train accuracy  0.682167, test accuracy 0.753900\n",
            "epoch 2, loss 0.508596          , train accuracy  0.832483, test accuracy 0.808100\n",
            "epoch 3, loss 0.435078          , train accuracy  0.861217, test accuracy 0.804000\n",
            "epoch 4, loss 0.398921          , train accuracy  0.874433, test accuracy 0.838800\n",
            "epoch 5, loss 0.366759          , train accuracy  0.885517, test accuracy 0.848200\n",
            "epoch 6, loss 0.349583          , train accuracy  0.891450, test accuracy 0.793800\n",
            "epoch 7, loss 0.338359          , train accuracy  0.899600, test accuracy 0.866100\n",
            "epoch 8, loss 0.319650          , train accuracy  0.904533, test accuracy 0.862700\n",
            "epoch 9, loss 0.307662          , train accuracy  0.910050, test accuracy 0.841300\n",
            "epoch 10, loss 0.299380          , train accuracy  0.913383, test accuracy 0.866400\n",
            "epoch 11, loss 0.290028          , train accuracy  0.917100, test accuracy 0.859900\n",
            "epoch 12, loss 0.277718          , train accuracy  0.921350, test accuracy 0.842400\n",
            "epoch 13, loss 0.268987          , train accuracy  0.924967, test accuracy 0.864700\n",
            "epoch 14, loss 0.261117          , train accuracy  0.927850, test accuracy 0.860200\n",
            "epoch 15, loss 0.254789          , train accuracy  0.930633, test accuracy 0.864700\n",
            "epoch 16, loss 0.247622          , train accuracy  0.934433, test accuracy 0.873800\n",
            "epoch 17, loss 0.244597          , train accuracy  0.935633, test accuracy 0.859600\n",
            "epoch 18, loss 0.234519          , train accuracy  0.938850, test accuracy 0.881900\n",
            "epoch 19, loss 0.228157          , train accuracy  0.941967, test accuracy 0.873800\n",
            "epoch 20, loss 0.223082          , train accuracy  0.943717, test accuracy 0.887900\n"
          ]
        }
      ],
      "source": [
        "\n",
        "INPUT = 28 * 28\n",
        "OUTPUT = 10\n",
        "HIDDEN1 = 1024\n",
        "HIDDEN2 = 1024\n",
        "batch_size, lr, num_epochs = 256, 0.3, 20\n",
        "\n",
        "net3 = nn.Sequential(nn.Flatten(),\n",
        "                    nn.Linear(INPUT, HIDDEN1),\n",
        "                    nn.ReLU(),\n",
        "                    nn.Linear(HIDDEN1, HIDDEN2),\n",
        "                    nn.ReLU(),\n",
        "                    nn.Linear(HIDDEN2, OUTPUT))\n",
        "\n",
        "net3.apply(init_weights);\n",
        "\n",
        "train_iter, test_iter = load_data_fashion_mnist(batch_size)\n",
        "loss = nn.CrossEntropyLoss(reduction='none')\n",
        "trainer3 = torch.optim.SGD(net3.parameters(), lr=lr)\n",
        "train(net3, train_iter, test_iter, loss, num_epochs, trainer3)\n"
      ]
    },
    {
      "cell_type": "code",
      "execution_count": null,
      "metadata": {},
      "outputs": [],
      "source": []
    }
  ],
  "metadata": {
    "colab": {
      "provenance": [],
      "toc_visible": true
    },
    "kernelspec": {
      "display_name": "env",
      "language": "python",
      "name": "python3"
    },
    "language_info": {
      "codemirror_mode": {
        "name": "ipython",
        "version": 3
      },
      "file_extension": ".py",
      "mimetype": "text/x-python",
      "name": "python",
      "nbconvert_exporter": "python",
      "pygments_lexer": "ipython3",
      "version": "3.12.8"
    }
  },
  "nbformat": 4,
  "nbformat_minor": 0
}
